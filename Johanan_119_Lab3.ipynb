{
  "cells": [
    {
      "cell_type": "markdown",
      "metadata": {
        "id": "L_irqHTnuKCj"
      },
      "source": [
        "#NNDL\n",
        "\n",
        "##Lab - 3\n",
        "\n",
        "##Submitted by: Johanan Joshua (2347119)"
      ]
    },
    {
      "cell_type": "markdown",
      "metadata": {
        "id": "4XPLIQbfuVFR"
      },
      "source": [
        "#Question:\n",
        "\n",
        "Develop a neural network using backpropagation to classify images from the CIFAR-10\n",
        "dataset.\n",
        "\n",
        "The dataset contains 60,000 32x32 color images divided into 10 classes\n",
        "(airplanes, cars, birds, cats, deer, dogs, frogs, horses, ships, and trucks).\n",
        "Your objective is to build a neural network model, train it using backpropagation, and\n",
        "evaluate its performance.\n",
        "\n",
        "You can download the dataset\n",
        "\n",
        "https://www.kaggle.com/c/cifar-10/\n",
        "\n",
        "https://www.cs.toronto.edu/~kriz/cifar.html\n",
        "\n",
        "\n",
        "Instructions:\n",
        "\n",
        "##1. Data Preprocessing:\n",
        "\n",
        "-- Load the CIFAR-10 dataset.\n",
        "\n",
        "-- Perform necessary data preprocessing steps:\n",
        "\n",
        "▪ Normalize pixel values to range between 0 and 1.\n",
        "\n",
        "▪ Convert class labels into one-hot encoded format.\n",
        "\n",
        "▪ Split the dataset into training and test sets (e.g., 50,000 images for\n",
        "training and 10,000 for testing).\n",
        "\n",
        "▪ Optionally, apply data augmentation techniques (such as random\n",
        "flips, rotations, or shifts) to improve the generalization of the\n",
        "model.\n",
        "\n",
        "\n",
        "##2. Network Architecture Design:\n",
        "\n",
        "-- Design a feedforward neural network to classify the images.\n",
        "\n",
        "▪ Input Layer: The input shape should match the 32x32x3\n",
        "dimensions of the CIFAR-10 images.\n",
        "\n",
        "▪ Hidden Layers: Use appropriate layers.\n",
        "\n",
        "▪ Output Layer: The final layer should have 10 output neurons (one\n",
        "for each class) with a softmax activation function for multi-class\n",
        "classification.\n",
        "\n",
        "\n",
        "Question:\n",
        "\n",
        "-- Justify your choice of network architecture, including the number of\n",
        "layers, types of layers, and the number of neurons/filters in each layer.\n",
        "\n",
        "##3. Activation Functions:\n",
        "\n",
        "-- Choose any two appropriate activation functions for the hidden layers\n",
        "(e.g., ReLU, sigmoid, or tanh).\n",
        "\n",
        "-- Explain why you selected a particular activation function and its role in\n",
        "the backpropagation process.\n",
        "\n",
        "##4. Loss Function and Optimizer:\n",
        "\n",
        "-- Use any two loss functions and compare with the categorical cross\n",
        "entropy since this is a multi-class classification problem.\n",
        "\n",
        "-- Select an appropriate optimizer (e.g., SGD, Adam, RMSprop) and explain\n",
        "how the learning rate affects the backpropagation process.\n",
        "\n",
        "Question:\n",
        "\n",
        "-- How does the choice of optimizer and learning rate influence the\n",
        "convergence of the network? How would you adjust the learning rate if the\n",
        "model is not converging properly?\n",
        "\n",
        "\n",
        "##5. Training the Model:\n",
        "\n",
        "-- Implement backpropagation to update the weights and biases of the\n",
        "network during training.\n",
        "\n",
        "-- Train the model for a fixed number of epochs (e.g., 50 epochs) and\n",
        "monitor the training and validation accuracy.\n",
        "\n",
        "Question:\n",
        "\n",
        "\n",
        "-- How does backpropagation update the weights in each layer, and what\n",
        "role does the learning rate play in this process?\n",
        "\n",
        "##6. Model Evaluation:\n",
        "\n",
        "-- After training, evaluate the performance of your model on the test set.\n",
        "\n",
        "-- Calculate accuracy, precision, recall, F1-score, and the confusion matrix\n",
        "to understand the model’s classification performance.\n",
        "\n",
        "Question:\n",
        "\n",
        "-- How can you further improve model performance if the accuracy is low?\n",
        "\n",
        "##7. Optimization Strategies:\n",
        "\n",
        "-- Discuss optimization strategies such as:\n",
        "\n",
        "\n",
        "▪ Early stopping to prevent overfitting.\n",
        "\n",
        "▪ Learning rate scheduling for smoother convergence.\n",
        "\n",
        "▪ Weight initialization techniques to ensure efficient learning.\n",
        "\n",
        "Question:\n",
        "\n",
        "-- Why is weight initialization important, and how does it impact the\n",
        "convergence of your network?\n",
        "\n",
        "##8. Report:\n",
        "\n",
        "-- Provide a detailed report/documentation that includes (in Colab file):\n",
        "\n",
        "▪ The architecture of the network and justifications for the choices\n",
        "made.\n",
        "\n",
        "▪ Training and test accuracy with relevant plots showing loss and\n",
        "accuracy over the epochs.\n",
        "\n",
        "▪ Hyperparameter values used (learning rate, batch size, number of\n",
        "epochs, etc.).\n",
        "\n",
        "▪ A brief discussion of the challenges you faced and how you\n",
        "addressed them.\n",
        "\n",
        "Deliverables:\n",
        "\n",
        "• Submit your code along with documentation (as a Google Colab file and Github\n",
        "link).\n",
        "\n",
        "• Include comments in your code explaining each step clearly.\n",
        "\n",
        "• The Colab file should also contain performance metrics and any visualizations\n",
        "(such as training curves or confusion matrices) that demonstrate the model’s\n",
        "effectiveness."
      ]
    },
    {
      "cell_type": "markdown",
      "metadata": {
        "id": "hUOLA_rpvol2"
      },
      "source": [
        "#Solution:"
      ]
    },
    {
      "cell_type": "markdown",
      "source": [
        "#1. Data Preprocessing:\n",
        "\n",
        "##Steps:\n",
        "\n",
        "-- Load the CIFAR-10 dataset.\n",
        "\n",
        "-- Perform necessary data preprocessing steps:\n",
        "\n",
        "▪ Normalize pixel values to range between 0 and 1.\n",
        "\n",
        "▪ Convert class labels into one-hot encoded format.\n",
        "\n",
        "▪ Split the dataset into training and test sets (e.g., 50,000 images for training and 10,000 for testing).\n",
        "\n",
        "▪ Optionally, apply data augmentation techniques (such as random flips, rotations, or shifts) to improve the generalization of the model."
      ],
      "metadata": {
        "id": "Nv4FT_VXOgru"
      }
    },
    {
      "cell_type": "code",
      "execution_count": 10,
      "metadata": {
        "colab": {
          "base_uri": "https://localhost:8080/"
        },
        "id": "ksVqFX1ZuEM_",
        "outputId": "5d03dc9f-f320-4e0b-b992-8d0bb3e7c52f"
      },
      "outputs": [
        {
          "output_type": "stream",
          "name": "stdout",
          "text": [
            "Training data shape: (50000, 32, 32, 3)\n",
            "Training labels shape: (50000, 10)\n",
            "Testing data shape: (10000, 32, 32, 3)\n",
            "Testing labels shape: (10000, 10)\n"
          ]
        }
      ],
      "source": [
        "import tensorflow as tf\n",
        "from tensorflow.keras.datasets import cifar10\n",
        "from tensorflow.keras.utils import to_categorical\n",
        "from tensorflow.keras.preprocessing.image import ImageDataGenerator\n",
        "\n",
        "# Load the CIFAR-10 dataset\n",
        "(x_train, y_train), (x_test, y_test) = cifar10.load_data()\n",
        "\n",
        "# Normalize pixel values to range between 0 and 1\n",
        "x_train = x_train.astype('float32') / 255.0\n",
        "x_test = x_test.astype('float32') / 255.0\n",
        "\n",
        "# Convert class labels to one-hot encoded format\n",
        "y_train = to_categorical(y_train, 10)\n",
        "y_test = to_categorical(y_test, 10)\n",
        "\n",
        "# Split the dataset into training and test sets\n",
        "# The CIFAR-10 dataset, by default, is already split into 50,000 training images and 10,000 testing images.\n",
        "\n",
        "# Optionally apply data augmentation\n",
        "datagen = ImageDataGenerator(\n",
        "    rotation_range=15,          # Randomly rotate images by 15 degrees\n",
        "    width_shift_range=0.1,      # Randomly shift images horizontally by 10%\n",
        "    height_shift_range=0.1,     # Randomly shift images vertically by 10%\n",
        "    horizontal_flip=True        # Randomly flip images horizontally\n",
        ")\n",
        "datagen.fit(x_train)\n",
        "\n",
        "# Print shapes to confirm data preprocessing\n",
        "print(\"Training data shape:\", x_train.shape)\n",
        "print(\"Training labels shape:\", y_train.shape)\n",
        "print(\"Testing data shape:\", x_test.shape)\n",
        "print(\"Testing labels shape:\", y_test.shape)\n"
      ]
    },
    {
      "cell_type": "markdown",
      "source": [
        "#2. Network Architecture Design:\n",
        "\n",
        "##Steps:\n",
        "\n",
        "-- Design a feedforward neural network to classify the images.\n",
        "\n",
        "▪ Input Layer: The input shape should match the 32x32x3 dimensions of the CIFAR-10 images.\n",
        "\n",
        "▪ Hidden Layers: Use appropriate layers.\n",
        "\n",
        "▪ Output Layer: The final layer should have 10 output neurons (one for each class) with a softmax activation function for multi-class classification.\n",
        "\n"
      ],
      "metadata": {
        "id": "3T5o1p5cSsUL"
      }
    },
    {
      "cell_type": "code",
      "source": [
        "from tensorflow.keras.models import Sequential\n",
        "from tensorflow.keras.layers import Conv2D, MaxPooling2D, Flatten, Dense, Dropout\n",
        "\n",
        "# Define the CNN model\n",
        "model = Sequential()\n",
        "\n",
        "# First Conv Layer\n",
        "model.add(Conv2D(32, (3, 3), activation='relu', input_shape=(32, 32, 3)))\n",
        "model.add(MaxPooling2D(pool_size=(2, 2)))\n",
        "\n",
        "# Second Conv Layer\n",
        "model.add(Conv2D(64, (3, 3), activation='relu'))\n",
        "model.add(MaxPooling2D(pool_size=(2, 2)))\n",
        "\n",
        "# Flatten the feature map and feed it to a fully connected layer\n",
        "model.add(Flatten())\n",
        "model.add(Dense(128, activation='tanh'))\n",
        "\n",
        "# Output Layer\n",
        "model.add(Dense(10, activation='softmax'))\n",
        "\n",
        "model.summary()\n"
      ],
      "metadata": {
        "colab": {
          "base_uri": "https://localhost:8080/",
          "height": 353
        },
        "id": "_YkGTSSVTv6-",
        "outputId": "6f33d5b6-a9c7-4293-cc17-ea3ff35144a7"
      },
      "execution_count": 11,
      "outputs": [
        {
          "output_type": "display_data",
          "data": {
            "text/plain": [
              "\u001b[1mModel: \"sequential_2\"\u001b[0m\n"
            ],
            "text/html": [
              "<pre style=\"white-space:pre;overflow-x:auto;line-height:normal;font-family:Menlo,'DejaVu Sans Mono',consolas,'Courier New',monospace\"><span style=\"font-weight: bold\">Model: \"sequential_2\"</span>\n",
              "</pre>\n"
            ]
          },
          "metadata": {}
        },
        {
          "output_type": "display_data",
          "data": {
            "text/plain": [
              "┏━━━━━━━━━━━━━━━━━━━━━━━━━━━━━━━━━━━━━━┳━━━━━━━━━━━━━━━━━━━━━━━━━━━━━┳━━━━━━━━━━━━━━━━━┓\n",
              "┃\u001b[1m \u001b[0m\u001b[1mLayer (type)                        \u001b[0m\u001b[1m \u001b[0m┃\u001b[1m \u001b[0m\u001b[1mOutput Shape               \u001b[0m\u001b[1m \u001b[0m┃\u001b[1m \u001b[0m\u001b[1m        Param #\u001b[0m\u001b[1m \u001b[0m┃\n",
              "┡━━━━━━━━━━━━━━━━━━━━━━━━━━━━━━━━━━━━━━╇━━━━━━━━━━━━━━━━━━━━━━━━━━━━━╇━━━━━━━━━━━━━━━━━┩\n",
              "│ conv2d_4 (\u001b[38;5;33mConv2D\u001b[0m)                    │ (\u001b[38;5;45mNone\u001b[0m, \u001b[38;5;34m30\u001b[0m, \u001b[38;5;34m30\u001b[0m, \u001b[38;5;34m32\u001b[0m)          │             \u001b[38;5;34m896\u001b[0m │\n",
              "├──────────────────────────────────────┼─────────────────────────────┼─────────────────┤\n",
              "│ max_pooling2d_4 (\u001b[38;5;33mMaxPooling2D\u001b[0m)       │ (\u001b[38;5;45mNone\u001b[0m, \u001b[38;5;34m15\u001b[0m, \u001b[38;5;34m15\u001b[0m, \u001b[38;5;34m32\u001b[0m)          │               \u001b[38;5;34m0\u001b[0m │\n",
              "├──────────────────────────────────────┼─────────────────────────────┼─────────────────┤\n",
              "│ conv2d_5 (\u001b[38;5;33mConv2D\u001b[0m)                    │ (\u001b[38;5;45mNone\u001b[0m, \u001b[38;5;34m13\u001b[0m, \u001b[38;5;34m13\u001b[0m, \u001b[38;5;34m64\u001b[0m)          │          \u001b[38;5;34m18,496\u001b[0m │\n",
              "├──────────────────────────────────────┼─────────────────────────────┼─────────────────┤\n",
              "│ max_pooling2d_5 (\u001b[38;5;33mMaxPooling2D\u001b[0m)       │ (\u001b[38;5;45mNone\u001b[0m, \u001b[38;5;34m6\u001b[0m, \u001b[38;5;34m6\u001b[0m, \u001b[38;5;34m64\u001b[0m)            │               \u001b[38;5;34m0\u001b[0m │\n",
              "├──────────────────────────────────────┼─────────────────────────────┼─────────────────┤\n",
              "│ flatten_2 (\u001b[38;5;33mFlatten\u001b[0m)                  │ (\u001b[38;5;45mNone\u001b[0m, \u001b[38;5;34m2304\u001b[0m)                │               \u001b[38;5;34m0\u001b[0m │\n",
              "├──────────────────────────────────────┼─────────────────────────────┼─────────────────┤\n",
              "│ dense_4 (\u001b[38;5;33mDense\u001b[0m)                      │ (\u001b[38;5;45mNone\u001b[0m, \u001b[38;5;34m128\u001b[0m)                 │         \u001b[38;5;34m295,040\u001b[0m │\n",
              "├──────────────────────────────────────┼─────────────────────────────┼─────────────────┤\n",
              "│ dense_5 (\u001b[38;5;33mDense\u001b[0m)                      │ (\u001b[38;5;45mNone\u001b[0m, \u001b[38;5;34m10\u001b[0m)                  │           \u001b[38;5;34m1,290\u001b[0m │\n",
              "└──────────────────────────────────────┴─────────────────────────────┴─────────────────┘\n"
            ],
            "text/html": [
              "<pre style=\"white-space:pre;overflow-x:auto;line-height:normal;font-family:Menlo,'DejaVu Sans Mono',consolas,'Courier New',monospace\">┏━━━━━━━━━━━━━━━━━━━━━━━━━━━━━━━━━━━━━━┳━━━━━━━━━━━━━━━━━━━━━━━━━━━━━┳━━━━━━━━━━━━━━━━━┓\n",
              "┃<span style=\"font-weight: bold\"> Layer (type)                         </span>┃<span style=\"font-weight: bold\"> Output Shape                </span>┃<span style=\"font-weight: bold\">         Param # </span>┃\n",
              "┡━━━━━━━━━━━━━━━━━━━━━━━━━━━━━━━━━━━━━━╇━━━━━━━━━━━━━━━━━━━━━━━━━━━━━╇━━━━━━━━━━━━━━━━━┩\n",
              "│ conv2d_4 (<span style=\"color: #0087ff; text-decoration-color: #0087ff\">Conv2D</span>)                    │ (<span style=\"color: #00d7ff; text-decoration-color: #00d7ff\">None</span>, <span style=\"color: #00af00; text-decoration-color: #00af00\">30</span>, <span style=\"color: #00af00; text-decoration-color: #00af00\">30</span>, <span style=\"color: #00af00; text-decoration-color: #00af00\">32</span>)          │             <span style=\"color: #00af00; text-decoration-color: #00af00\">896</span> │\n",
              "├──────────────────────────────────────┼─────────────────────────────┼─────────────────┤\n",
              "│ max_pooling2d_4 (<span style=\"color: #0087ff; text-decoration-color: #0087ff\">MaxPooling2D</span>)       │ (<span style=\"color: #00d7ff; text-decoration-color: #00d7ff\">None</span>, <span style=\"color: #00af00; text-decoration-color: #00af00\">15</span>, <span style=\"color: #00af00; text-decoration-color: #00af00\">15</span>, <span style=\"color: #00af00; text-decoration-color: #00af00\">32</span>)          │               <span style=\"color: #00af00; text-decoration-color: #00af00\">0</span> │\n",
              "├──────────────────────────────────────┼─────────────────────────────┼─────────────────┤\n",
              "│ conv2d_5 (<span style=\"color: #0087ff; text-decoration-color: #0087ff\">Conv2D</span>)                    │ (<span style=\"color: #00d7ff; text-decoration-color: #00d7ff\">None</span>, <span style=\"color: #00af00; text-decoration-color: #00af00\">13</span>, <span style=\"color: #00af00; text-decoration-color: #00af00\">13</span>, <span style=\"color: #00af00; text-decoration-color: #00af00\">64</span>)          │          <span style=\"color: #00af00; text-decoration-color: #00af00\">18,496</span> │\n",
              "├──────────────────────────────────────┼─────────────────────────────┼─────────────────┤\n",
              "│ max_pooling2d_5 (<span style=\"color: #0087ff; text-decoration-color: #0087ff\">MaxPooling2D</span>)       │ (<span style=\"color: #00d7ff; text-decoration-color: #00d7ff\">None</span>, <span style=\"color: #00af00; text-decoration-color: #00af00\">6</span>, <span style=\"color: #00af00; text-decoration-color: #00af00\">6</span>, <span style=\"color: #00af00; text-decoration-color: #00af00\">64</span>)            │               <span style=\"color: #00af00; text-decoration-color: #00af00\">0</span> │\n",
              "├──────────────────────────────────────┼─────────────────────────────┼─────────────────┤\n",
              "│ flatten_2 (<span style=\"color: #0087ff; text-decoration-color: #0087ff\">Flatten</span>)                  │ (<span style=\"color: #00d7ff; text-decoration-color: #00d7ff\">None</span>, <span style=\"color: #00af00; text-decoration-color: #00af00\">2304</span>)                │               <span style=\"color: #00af00; text-decoration-color: #00af00\">0</span> │\n",
              "├──────────────────────────────────────┼─────────────────────────────┼─────────────────┤\n",
              "│ dense_4 (<span style=\"color: #0087ff; text-decoration-color: #0087ff\">Dense</span>)                      │ (<span style=\"color: #00d7ff; text-decoration-color: #00d7ff\">None</span>, <span style=\"color: #00af00; text-decoration-color: #00af00\">128</span>)                 │         <span style=\"color: #00af00; text-decoration-color: #00af00\">295,040</span> │\n",
              "├──────────────────────────────────────┼─────────────────────────────┼─────────────────┤\n",
              "│ dense_5 (<span style=\"color: #0087ff; text-decoration-color: #0087ff\">Dense</span>)                      │ (<span style=\"color: #00d7ff; text-decoration-color: #00d7ff\">None</span>, <span style=\"color: #00af00; text-decoration-color: #00af00\">10</span>)                  │           <span style=\"color: #00af00; text-decoration-color: #00af00\">1,290</span> │\n",
              "└──────────────────────────────────────┴─────────────────────────────┴─────────────────┘\n",
              "</pre>\n"
            ]
          },
          "metadata": {}
        },
        {
          "output_type": "display_data",
          "data": {
            "text/plain": [
              "\u001b[1m Total params: \u001b[0m\u001b[38;5;34m315,722\u001b[0m (1.20 MB)\n"
            ],
            "text/html": [
              "<pre style=\"white-space:pre;overflow-x:auto;line-height:normal;font-family:Menlo,'DejaVu Sans Mono',consolas,'Courier New',monospace\"><span style=\"font-weight: bold\"> Total params: </span><span style=\"color: #00af00; text-decoration-color: #00af00\">315,722</span> (1.20 MB)\n",
              "</pre>\n"
            ]
          },
          "metadata": {}
        },
        {
          "output_type": "display_data",
          "data": {
            "text/plain": [
              "\u001b[1m Trainable params: \u001b[0m\u001b[38;5;34m315,722\u001b[0m (1.20 MB)\n"
            ],
            "text/html": [
              "<pre style=\"white-space:pre;overflow-x:auto;line-height:normal;font-family:Menlo,'DejaVu Sans Mono',consolas,'Courier New',monospace\"><span style=\"font-weight: bold\"> Trainable params: </span><span style=\"color: #00af00; text-decoration-color: #00af00\">315,722</span> (1.20 MB)\n",
              "</pre>\n"
            ]
          },
          "metadata": {}
        },
        {
          "output_type": "display_data",
          "data": {
            "text/plain": [
              "\u001b[1m Non-trainable params: \u001b[0m\u001b[38;5;34m0\u001b[0m (0.00 B)\n"
            ],
            "text/html": [
              "<pre style=\"white-space:pre;overflow-x:auto;line-height:normal;font-family:Menlo,'DejaVu Sans Mono',consolas,'Courier New',monospace\"><span style=\"font-weight: bold\"> Non-trainable params: </span><span style=\"color: #00af00; text-decoration-color: #00af00\">0</span> (0.00 B)\n",
              "</pre>\n"
            ]
          },
          "metadata": {}
        }
      ]
    },
    {
      "cell_type": "markdown",
      "source": [
        "**Question:**\n",
        "\n",
        "-- Justify your choice of network architecture, including the number of layers, types of layers, and the number of neurons/filters in each layer.\n",
        "\n",
        "**Answer:**\n",
        "\n",
        "Architecture:\n",
        "\n",
        "*Input Layer*: 32x32x3 (RGB image).\n",
        "\n",
        "*Convolutional Layers*: To detect patterns like edges, colors, or textures.\n",
        "\n",
        "*Pooling Layers*: To downsample the image and reduce complexity.\n",
        "\n",
        "*Fully Connected Layers*: To classify the extracted features into categories.\n",
        "\n",
        "*Output Layer*: 10 neurons with softmax activation for multi-class classification.\n",
        "\n",
        "\n",
        "**Justification**\n",
        "\n",
        "*Convolutional layers* help in automatically learning filters for feature extraction.\n",
        "\n",
        "*Pooling layers* reduce the number of parameters and computational load.\n",
        "\n",
        "*Fully connected layers* consolidate the extracted features into final class scores."
      ],
      "metadata": {
        "id": "z_iVfSfOSwt0"
      }
    },
    {
      "cell_type": "markdown",
      "source": [
        "#3. Activation Functions:\n",
        "\n",
        "**-- Choose any two appropriate activation functions for the hidden layers (e.g., ReLU, sigmoid, or tanh).**\n",
        "\n",
        "ReLU and tanh Activation function is choosen (Both are implemented in the previous step)\n",
        "\n",
        "**-- Explain why you selected a particular activation function and its role in the backpropagation process.**\n",
        "\n",
        "ReLU (Rectified Linear Unit) is efficient for preventing the vanishing gradient problem during backpropagation by allowing faster learning.\n",
        "\n",
        "tanh ensures that the values are centered around zero, which can improve convergence in some cases.\n",
        "\n",
        "Role in Backpropagation:\n",
        "\n",
        "ReLU: ReLU mitigates the vanishing gradient problem (which is common with Sigmoid and Tanh) because its gradient does not saturate (except for the zero output case).ReLU deactivates neurons when the input is negative (output is 0), making the model sparse and more computationally efficient.\n",
        "\n",
        "tanh: can be useful in cases where the input data is centered around zero, but it may suffer from the vanishing gradient problem in deeper layers.\n",
        "\n"
      ],
      "metadata": {
        "id": "vW5WprCPUdEr"
      }
    },
    {
      "cell_type": "code",
      "source": [
        "# ReLU and tanh Activation functions are implemented in the previous step"
      ],
      "metadata": {
        "id": "b1I9uChzgar6"
      },
      "execution_count": 12,
      "outputs": []
    },
    {
      "cell_type": "markdown",
      "source": [
        "#4. Loss Function and Optimizer\n",
        "\n",
        "**-- Use any two loss functions and compare with the categorical cross entropy since this is a multi-class classification problem.**\n",
        "\n",
        "The most suitable loss function for multi-class classification is categorical crossentropy. You could compare this with:\n",
        "\n",
        "*1. Mean Squared Error (MSE)*: Not ideal for classification but used to compare performance.\n",
        "  \n",
        "*2. Sparse Categorical Crossentropy*: Another variant of cross-entropy when the labels are integers.\n",
        "\n",
        "**-- Select an appropriate optimizer (e.g., SGD, Adam, RMSprop) and explain how the learning rate affects the backpropagation process.**\n",
        "\n",
        "Use Adam optimizer due to its adaptive learning rate and ability to handle sparse gradients.\n",
        "\n",
        "  \n"
      ],
      "metadata": {
        "id": "7un6ASPfdfie"
      }
    },
    {
      "cell_type": "code",
      "source": [
        "model.compile(optimizer='adam', loss='categorical_crossentropy', metrics=['accuracy'])\n"
      ],
      "metadata": {
        "id": "5mHA9GWBeMNq"
      },
      "execution_count": 13,
      "outputs": []
    },
    {
      "cell_type": "markdown",
      "source": [
        "**Question:**\n",
        "\n",
        "-- How does the choice of optimizer and learning rate influence the convergence of the network? How would you adjust the learning rate if the model is not converging properly?\n",
        "\n",
        "**Answer:**\n",
        "\n",
        "Effect of Optimizer & Learning Rate:\n",
        "\n",
        "Adam adjusts the learning rate dynamically, leading to faster convergence.\n",
        "\n",
        "If the model isn't converging, reduce the learning rate to allow for finer updates."
      ],
      "metadata": {
        "id": "IBTFRUPseUhP"
      }
    },
    {
      "cell_type": "markdown",
      "source": [
        "#5. Training the Model:\n",
        "\n",
        "-- Implement backpropagation to update the weights and biases of the network during training.\n",
        "\n",
        "-- Train the model for a fixed number of epochs (e.g., 10 epochs) and monitor the training and validation accuracy.\n"
      ],
      "metadata": {
        "id": "yT36W0Uhe3eO"
      }
    },
    {
      "cell_type": "code",
      "source": [
        "# Train the model\n",
        "history = model.fit(datagen.flow(x_train, y_train, batch_size=64),\n",
        "                    validation_data=(x_test, y_test),\n",
        "                    epochs=10)\n"
      ],
      "metadata": {
        "id": "_h90HHDEVseC",
        "colab": {
          "base_uri": "https://localhost:8080/"
        },
        "outputId": "2c036d64-cada-42f3-c16d-f18e7bee01a3"
      },
      "execution_count": 16,
      "outputs": [
        {
          "output_type": "stream",
          "name": "stdout",
          "text": [
            "Epoch 1/10\n",
            "\u001b[1m782/782\u001b[0m \u001b[32m━━━━━━━━━━━━━━━━━━━━\u001b[0m\u001b[37m\u001b[0m \u001b[1m102s\u001b[0m 130ms/step - accuracy: 0.6705 - loss: 0.9334 - val_accuracy: 0.7096 - val_loss: 0.8486\n",
            "Epoch 2/10\n",
            "\u001b[1m782/782\u001b[0m \u001b[32m━━━━━━━━━━━━━━━━━━━━\u001b[0m\u001b[37m\u001b[0m \u001b[1m158s\u001b[0m 151ms/step - accuracy: 0.6837 - loss: 0.9030 - val_accuracy: 0.6995 - val_loss: 0.8517\n",
            "Epoch 3/10\n",
            "\u001b[1m782/782\u001b[0m \u001b[32m━━━━━━━━━━━━━━━━━━━━\u001b[0m\u001b[37m\u001b[0m \u001b[1m117s\u001b[0m 147ms/step - accuracy: 0.6911 - loss: 0.8785 - val_accuracy: 0.7116 - val_loss: 0.8331\n",
            "Epoch 4/10\n",
            "\u001b[1m782/782\u001b[0m \u001b[32m━━━━━━━━━━━━━━━━━━━━\u001b[0m\u001b[37m\u001b[0m \u001b[1m127s\u001b[0m 129ms/step - accuracy: 0.6968 - loss: 0.8635 - val_accuracy: 0.7197 - val_loss: 0.8094\n",
            "Epoch 5/10\n",
            "\u001b[1m782/782\u001b[0m \u001b[32m━━━━━━━━━━━━━━━━━━━━\u001b[0m\u001b[37m\u001b[0m \u001b[1m142s\u001b[0m 129ms/step - accuracy: 0.7041 - loss: 0.8410 - val_accuracy: 0.7162 - val_loss: 0.8390\n",
            "Epoch 6/10\n",
            "\u001b[1m782/782\u001b[0m \u001b[32m━━━━━━━━━━━━━━━━━━━━\u001b[0m\u001b[37m\u001b[0m \u001b[1m144s\u001b[0m 132ms/step - accuracy: 0.7102 - loss: 0.8270 - val_accuracy: 0.7356 - val_loss: 0.7582\n",
            "Epoch 7/10\n",
            "\u001b[1m782/782\u001b[0m \u001b[32m━━━━━━━━━━━━━━━━━━━━\u001b[0m\u001b[37m\u001b[0m \u001b[1m104s\u001b[0m 132ms/step - accuracy: 0.7167 - loss: 0.8031 - val_accuracy: 0.7214 - val_loss: 0.8155\n",
            "Epoch 8/10\n",
            "\u001b[1m782/782\u001b[0m \u001b[32m━━━━━━━━━━━━━━━━━━━━\u001b[0m\u001b[37m\u001b[0m \u001b[1m103s\u001b[0m 131ms/step - accuracy: 0.7241 - loss: 0.7882 - val_accuracy: 0.7422 - val_loss: 0.7539\n",
            "Epoch 9/10\n",
            "\u001b[1m782/782\u001b[0m \u001b[32m━━━━━━━━━━━━━━━━━━━━\u001b[0m\u001b[37m\u001b[0m \u001b[1m102s\u001b[0m 130ms/step - accuracy: 0.7302 - loss: 0.7646 - val_accuracy: 0.7369 - val_loss: 0.7771\n",
            "Epoch 10/10\n",
            "\u001b[1m782/782\u001b[0m \u001b[32m━━━━━━━━━━━━━━━━━━━━\u001b[0m\u001b[37m\u001b[0m \u001b[1m142s\u001b[0m 130ms/step - accuracy: 0.7316 - loss: 0.7658 - val_accuracy: 0.7414 - val_loss: 0.7563\n"
          ]
        }
      ]
    },
    {
      "cell_type": "markdown",
      "source": [
        "**Question:**\n",
        "\n",
        "-- How does backpropagation update the weights in each layer, and what role does the learning rate play in this process?\n",
        "\n",
        "**Answer:**\n",
        "\n",
        "Backpropagation & Learning Rate:\n",
        "\n",
        "Backpropagation updates the weights in each layer by calculating the gradient of the loss with respect to the weights and adjusting them using the learning rate.\n",
        "\n",
        "The learning rate determines how large these weight updates are. If it's too high, the model may overshoot optimal points; if too low, it might converge slowly"
      ],
      "metadata": {
        "id": "UxQyFZn2fFm4"
      }
    },
    {
      "cell_type": "markdown",
      "source": [
        "#6. Model Evaluation:\n",
        "\n",
        "-- After training, evaluate the performance of your model on the test set.\n",
        "\n",
        "-- Calculate accuracy, precision, recall, F1-score, and the confusion matrix\n",
        "to understand the model’s classification performance.\n"
      ],
      "metadata": {
        "id": "8mH7QPtjfYo0"
      }
    },
    {
      "cell_type": "code",
      "source": [
        "import matplotlib.pyplot as plt\n",
        "import seaborn as sns\n",
        "from sklearn.metrics import classification_report, confusion_matrix\n",
        "\n",
        "# Evaluate the model\n",
        "test_loss, test_acc = model.evaluate(x_test, y_test)\n",
        "\n",
        "# Get predictions\n",
        "y_pred = model.predict(x_test)\n",
        "y_pred_classes = y_pred.argmax(axis=1)\n",
        "y_true = y_test.argmax(axis=1)\n",
        "\n",
        "# Classification report\n",
        "print(classification_report(y_true, y_pred_classes))\n",
        "\n",
        "# Visualizing the classification report as a bar chart\n",
        "from sklearn.metrics import precision_recall_fscore_support\n",
        "metrics = precision_recall_fscore_support(y_true, y_pred_classes, average=None, labels=[0, 1, 2, 3, 4, 5, 6, 7, 8, 9])\n",
        "\n",
        "# Extract precision, recall, and F1-score for each class\n",
        "precision = metrics[0]\n",
        "recall = metrics[1]\n",
        "f1_score = metrics[2]\n",
        "classes = list(range(10))\n",
        "\n",
        "# Plotting Precision, Recall, and F1-score for each class\n",
        "plt.figure(figsize=(10, 5))\n",
        "barWidth = 0.25\n",
        "r1 = range(len(classes))\n",
        "r2 = [x + barWidth for x in r1]\n",
        "r3 = [x + barWidth for x in r2]\n",
        "\n",
        "plt.bar(r1, precision, color='b', width=barWidth, edgecolor='grey', label='Precision')\n",
        "plt.bar(r2, recall, color='g', width=barWidth, edgecolor='grey', label='Recall')\n",
        "plt.bar(r3, f1_score, color='r', width=barWidth, edgecolor='grey', label='F1-score')\n",
        "\n",
        "# Adding labels\n",
        "plt.xlabel('Class')\n",
        "plt.ylabel('Score')\n",
        "plt.xticks([r + barWidth for r in range(len(classes))], classes)\n",
        "plt.title('Precision, Recall, F1-Score per Class')\n",
        "plt.legend()\n",
        "plt.show()\n",
        "\n",
        "print(\"----------------------------------------------------------\")\n",
        "\n",
        "# Confusion matrix\n",
        "conf_matrix = confusion_matrix(y_true, y_pred_classes)\n",
        "\n",
        "# Visualization of the confusion matrix\n",
        "plt.figure(figsize=(10,7))\n",
        "sns.heatmap(conf_matrix, annot=True, fmt=\"d\", cmap=\"Blues\", linewidths=0.5)\n",
        "plt.title('Confusion Matrix')\n",
        "plt.ylabel('Actual Class')\n",
        "plt.xlabel('Predicted Class')\n",
        "plt.show()\n",
        "\n"
      ],
      "metadata": {
        "colab": {
          "base_uri": "https://localhost:8080/",
          "height": 1000
        },
        "id": "hP8M4yKqfhtp",
        "outputId": "b7e52eec-2b45-41e9-db47-8ee6014f9a48"
      },
      "execution_count": 17,
      "outputs": [
        {
          "output_type": "stream",
          "name": "stdout",
          "text": [
            "\u001b[1m313/313\u001b[0m \u001b[32m━━━━━━━━━━━━━━━━━━━━\u001b[0m\u001b[37m\u001b[0m \u001b[1m4s\u001b[0m 13ms/step - accuracy: 0.7423 - loss: 0.7572\n",
            "\u001b[1m313/313\u001b[0m \u001b[32m━━━━━━━━━━━━━━━━━━━━\u001b[0m\u001b[37m\u001b[0m \u001b[1m6s\u001b[0m 18ms/step\n",
            "              precision    recall  f1-score   support\n",
            "\n",
            "           0       0.70      0.86      0.77      1000\n",
            "           1       0.76      0.92      0.83      1000\n",
            "           2       0.77      0.58      0.66      1000\n",
            "           3       0.64      0.47      0.54      1000\n",
            "           4       0.77      0.65      0.70      1000\n",
            "           5       0.69      0.60      0.64      1000\n",
            "           6       0.68      0.90      0.77      1000\n",
            "           7       0.72      0.84      0.78      1000\n",
            "           8       0.89      0.79      0.84      1000\n",
            "           9       0.82      0.80      0.81      1000\n",
            "\n",
            "    accuracy                           0.74     10000\n",
            "   macro avg       0.74      0.74      0.74     10000\n",
            "weighted avg       0.74      0.74      0.74     10000\n",
            "\n"
          ]
        },
        {
          "output_type": "display_data",
          "data": {
            "text/plain": [
              "<Figure size 1000x500 with 1 Axes>"
            ],
            "image/png": "[encoded data removed]"
          },
          "metadata": {}
        },
        {
          "output_type": "stream",
          "name": "stdout",
          "text": [
            "----------------------------------------------------------\n"
          ]
        },
        {
          "output_type": "display_data",
          "data": {
            "text/plain": [
              "<Figure size 1000x700 with 2 Axes>"
            ],
            "image/png": "[encoded data removed]"
          },
          "metadata": {}
        }
      ]
    },
    {
      "cell_type": "markdown",
      "source": [
        "**Question:**\n",
        "\n",
        "-- How can you further improve model performance if the accuracy is low?\n",
        "\n",
        "**Answer:**\n",
        "\n",
        "Data Augmentation: Introduce variations in the data to reduce overfitting.\n",
        "\n",
        "More Complex Architectures: Add more layers or filters to improve feature extraction."
      ],
      "metadata": {
        "id": "iwBTD5nlfcSo"
      }
    },
    {
      "cell_type": "markdown",
      "source": [
        "#7. Optimization Strategies:\n",
        "\n",
        "**Early Stopping:** Stop training when validation accuracy no longer improves.\n",
        "\n",
        "**Learning Rate Scheduling:** Gradually decrease the learning rate to allow finer convergence.\n",
        "\n",
        "**Weight Initialization:** Start with weights near zero, but not zero, to ensure symmetry breaking and efficient learning.\n",
        "\n",
        "**Weight Initialization Importance:**\n",
        "\n",
        "Poor initialization can cause vanishing/exploding gradients.\n",
        "\n",
        "Techniques like He initialization for ReLU layers can help achieve faster convergence.\n",
        "\n",
        "**Question**:\n",
        "\n",
        "-- Why is weight initialization important, and how does it impact the\n",
        "convergence of your network?\n",
        "\n",
        "**Answer:**\n",
        "\n",
        "**Importance of Weight Initialization and Its Impact on Convergence**\n",
        "\n",
        "*1. Learning Diversity:*Proper weight initialization breaks symmetry, enabling neurons to learn unique features and improving model performance.\n",
        "\n",
        "*2. Avoids Gradient Issues:* It prevents vanishing gradients (too small) and exploding gradients (too large), which can hinder effective learning and convergence.\n",
        "\n",
        "*3. Faster Convergence*: Good initialization allows the model to reach optimal weights more quickly, speeding up the training process.\n",
        "\n",
        "*4. Better Generalization:* Properly initialized weights enhance the model’s ability to generalize to unseen data, leading to improved overall performance.\n",
        "\n",
        "*5. Stable Learning*: Effective weight initialization results in more stable updates during training, reducing fluctuations and increasing the reliability of the model's performance."
      ],
      "metadata": {
        "id": "s2xNuSIbfxsP"
      }
    }
  ],
  "metadata": {
    "colab": {
      "provenance": []
    },
    "kernelspec": {
      "display_name": "Python 3",
      "name": "python3"
    },
    "language_info": {
      "name": "python"
    }
  },
  "nbformat": 4,
  "nbformat_minor": 0
}